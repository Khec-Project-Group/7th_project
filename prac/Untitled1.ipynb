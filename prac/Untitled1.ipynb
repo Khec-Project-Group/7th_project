{
 "cells": [
  {
   "cell_type": "code",
   "execution_count": 1,
   "metadata": {},
   "outputs": [],
   "source": [
    "import numpy as np\n",
    "import pandas as pd\n",
    "from pandas import datetime\n",
    "import matplotlib.pylab as plt\n",
    "%matplotlib inline\n",
    "from matplotlib.pylab import rcParams"
   ]
  },
  {
   "cell_type": "code",
   "execution_count": 2,
   "metadata": {},
   "outputs": [
    {
     "name": "stderr",
     "output_type": "stream",
     "text": [
      "/home/redeye/.local/lib/python3.6/site-packages/ipykernel_launcher.py:2: FutureWarning: The pandas.datetime class is deprecated and will be removed from pandas in a future version. Import from datetime instead.\n",
      "  \n"
     ]
    }
   ],
   "source": [
    "def parser(x):\n",
    "    return datetime.strptime(x,'%Y-%m')\n",
    "data=pd.read_csv('potato_import.csv', index_col=0 ,parse_dates = [0], date_parser = parser)\n",
    "mean_Quantity = data['Quantity'].median(skipna=True)\n",
    "data.loc[data.Quantity == 0, 'Quantity'] = mean_Quantity\n",
    "training_data = data[:round(len(data)*0.85)]\n",
    "test_data = data[round(len(data)*0.85):]"
   ]
  },
  {
   "cell_type": "code",
   "execution_count": 3,
   "metadata": {},
   "outputs": [],
   "source": [
    "len_training = len(training_data)"
   ]
  },
  {
   "cell_type": "code",
   "execution_count": 4,
   "metadata": {},
   "outputs": [],
   "source": [
    "training_data_logscale = np.log(training_data)"
   ]
  },
  {
   "cell_type": "code",
   "execution_count": 5,
   "metadata": {},
   "outputs": [],
   "source": [
    "movingavg = training_data_logscale.rolling(window=12).mean()\n",
    "movingstd = training_data_logscale.rolling(window=12).std()\n",
    "# plt.plot(training_data)\n",
    "# plt.plot(movingavg, 'red')\n",
    "# plt.plot(movingstd, 'green')"
   ]
  },
  {
   "cell_type": "code",
   "execution_count": 6,
   "metadata": {},
   "outputs": [],
   "source": [
    "datasetlogscalemovingavg = training_data_logscale - movingavg\n",
    "datasetlogscalemovingavg.dropna(inplace=True)"
   ]
  },
  {
   "cell_type": "code",
   "execution_count": 7,
   "metadata": {},
   "outputs": [],
   "source": [
    "from statsmodels.tsa.stattools import adfuller\n",
    "def test_stationarity(timeseries):\n",
    "    movingavg = timeseries.rolling(window=12).mean()\n",
    "    movingstd = timeseries.rolling(window=12).std()\n",
    "   "
   ]
  },
  {
   "cell_type": "code",
   "execution_count": 8,
   "metadata": {
    "scrolled": true
   },
   "outputs": [],
   "source": [
    "# test_stationarity(datasetlogscalemovingavg)"
   ]
  },
  {
   "cell_type": "code",
   "execution_count": 9,
   "metadata": {},
   "outputs": [],
   "source": [
    "exp_decay_wt_avg = training_data_logscale.ewm(halflife=12, min_periods=0, adjust=True).mean()"
   ]
  },
  {
   "cell_type": "code",
   "execution_count": 10,
   "metadata": {},
   "outputs": [],
   "source": [
    "data_logscale_minus_moving_exp_decay_avg = training_data_logscale - exp_decay_wt_avg"
   ]
  },
  {
   "cell_type": "code",
   "execution_count": 11,
   "metadata": {},
   "outputs": [],
   "source": [
    "datasetlogdiffshifting = training_data_logscale - training_data_logscale.shift()"
   ]
  },
  {
   "cell_type": "code",
   "execution_count": 12,
   "metadata": {},
   "outputs": [],
   "source": [
    "datasetlogdiffshifting.dropna(inplace=True)\n",
    "# plt.xlabel(\"Date\")\n",
    "# plt.ylabel(\"Shifted log value\")\n",
    "# test_stationarity(datasetlogdiffshifting)"
   ]
  },
  {
   "cell_type": "code",
   "execution_count": 13,
   "metadata": {},
   "outputs": [],
   "source": [
    "# from statsmodels.tsa.seasonal import seasonal_decompose\n",
    "# decomposition = seasonal_decompose(training_data_logscale)\n",
    "\n",
    "# trend = decomposition.trend\n",
    "# seasonal = decomposition.seasonal\n",
    "# residual = decomposition.resid\n",
    "\n",
    "# plt.subplot(411)\n",
    "# plt.plot(training_data_logscale, label='Original')\n",
    "# plt.legend(loc='best')\n",
    "\n",
    "# plt.subplot(412)\n",
    "# plt.plot(trend, label='Trend')\n",
    "# plt.legend(loc='best')\n",
    "\n",
    "# plt.subplot(413)\n",
    "# plt.plot(seasonal, label='Seasonal')\n",
    "# plt.legend(loc='best')\n",
    "\n",
    "# plt.subplot(414)\n",
    "# plt.plot(residual, label='Residual')\n",
    "# plt.legend(loc='best')\n",
    "\n",
    "# plt.tight_layout()\n",
    "\n",
    "# decompositionlogdata = residual\n",
    "# decompositionlogdata.dropna(inplace=True)\n",
    "# test_stationarity(decompositionlogdata)"
   ]
  },
  {
   "cell_type": "code",
   "execution_count": 14,
   "metadata": {},
   "outputs": [],
   "source": [
    "# decompositionlogdata = residual\n",
    "# decompositionlogdata.dropna(inplace=True)\n",
    "# test_stationarity(decompositionlogdata)"
   ]
  },
  {
   "cell_type": "code",
   "execution_count": 15,
   "metadata": {},
   "outputs": [],
   "source": [
    "# from statsmodels.tsa.stattools import acf, pacf\n",
    "\n",
    "# lag_acf = acf(datasetlogdiffshifting,nlags=20)\n",
    "# lag_pacf = pacf(datasetlogdiffshifting, nlags=20, method='ols')\n",
    "\n",
    "# #plt.subplot(121)\n",
    "# plt.axis([0, 8, -0.4, 1.0])\n",
    "# plt.plot(lag_acf)\n",
    "# plt.axhline(y=0,linestyle='--',color='gray')\n",
    "# plt.axhline(y=-1.96/np.sqrt(len(datasetlogdiffshifting)),linestyle='--',color='gray')\n",
    "# plt.axhline(y=1.96/np.sqrt(len(datasetlogdiffshifting)),linestyle='--',color='gray')\n",
    "# plt.title('Autocorrelation function')\n",
    "\n"
   ]
  },
  {
   "cell_type": "code",
   "execution_count": 16,
   "metadata": {
    "scrolled": true
   },
   "outputs": [],
   "source": [
    "# #plt.subplot(122)\n",
    "# plt.axis([0, 8, -0.4, 1.0])\n",
    "# plt.plot(lag_pacf)\n",
    "# plt.axhline(y=0,linestyle='--',color='gray')\n",
    "# plt.axhline(y=-1.96/np.sqrt(len(datasetlogdiffshifting)),linestyle='--',color='gray')\n",
    "# plt.axhline(y=1.96/np.sqrt(len(datasetlogdiffshifting)),linestyle='--',color='gray')\n",
    "# plt.title('Partial Autocorrelation function')\n",
    "# plt.tight_layout()"
   ]
  },
  {
   "cell_type": "code",
   "execution_count": 17,
   "metadata": {
    "scrolled": true
   },
   "outputs": [
    {
     "name": "stderr",
     "output_type": "stream",
     "text": [
      "/home/redeye/.local/lib/python3.6/site-packages/statsmodels/tsa/base/tsa_model.py:162: ValueWarning: No frequency information was provided, so inferred frequency MS will be used.\n",
      "  % freq, ValueWarning)\n",
      "/home/redeye/.local/lib/python3.6/site-packages/statsmodels/tsa/base/tsa_model.py:162: ValueWarning: No frequency information was provided, so inferred frequency MS will be used.\n",
      "  % freq, ValueWarning)\n"
     ]
    },
    {
     "name": "stdout",
     "output_type": "stream",
     "text": [
      "RSS: 2.4192\n"
     ]
    }
   ],
   "source": [
    "from statsmodels.tsa.arima_model import ARIMA\n",
    "model = ARIMA(training_data_logscale,order=(21,1,1))\n",
    "results_ar = model.fit(disp=-1)\n",
    "rss = np.log(sum((results_ar.fittedvalues-datasetlogdiffshifting[\"Quantity\"])**2))\n",
    "print('RSS: %.4f'% rss)"
   ]
  },
  {
   "cell_type": "code",
   "execution_count": 18,
   "metadata": {},
   "outputs": [],
   "source": [
    "predic_arima_diff = pd.Series(results_ar.fittedvalues, copy=False)\n",
    "# print(predic_arima_diff.head())"
   ]
  },
  {
   "cell_type": "code",
   "execution_count": 19,
   "metadata": {},
   "outputs": [],
   "source": [
    "predic_arima_diff_cumsum = predic_arima_diff.cumsum()\n",
    "# print(predic_arima_diff_cumsum.head())"
   ]
  },
  {
   "cell_type": "code",
   "execution_count": 20,
   "metadata": {},
   "outputs": [],
   "source": [
    "predic_arima_log = pd.Series(training_data_logscale['Quantity'],index=training_data_logscale.index)\n",
    "predic_arima_log = predic_arima_log.add(predic_arima_diff_cumsum, fill_value=0)\n",
    "# predic_arima=np.exp(predic_arima_log)\n",
    "# predic_arima"
   ]
  },
  {
   "cell_type": "code",
   "execution_count": 21,
   "metadata": {},
   "outputs": [],
   "source": [
    "# predic_arima = np.exp(predic_arima_log)\n",
    "# exp_log_indexdata = np.exp(training_data_logscale)\n",
    "# plt.plot(exp_log_indexdata)\n",
    "# plt.plot(predic_arima)"
   ]
  },
  {
   "cell_type": "code",
   "execution_count": 22,
   "metadata": {},
   "outputs": [],
   "source": [
    "#indexdata_logscale\n",
    "# exp_log_indexdata\n",
    "# predic_arima"
   ]
  },
  {
   "cell_type": "code",
   "execution_count": 23,
   "metadata": {},
   "outputs": [],
   "source": [
    "# np.exp(training_data_logscale)\n",
    "# x =results_ar.plot_predict(1,180)\n",
    "# x=results_ar.plot_predict(start=1, end=180, exog=None, dynamic=False, alpha=0.05, plot_insample=True, ax=None)\n",
    "# print arma_order_select_ic(df.AverageTemperature, ic=['aic', 'bic'], trend='nc',\n",
    "#             max_ar=4, max_ma=4, fit_kw={'method': 'css-mle'})"
   ]
  },
  {
   "cell_type": "code",
   "execution_count": 24,
   "metadata": {},
   "outputs": [],
   "source": [
    "pred=results_ar.forecast(steps = 60)[0]\n",
    "y = pred.tolist()\n",
    "s = pd.Series(y, copy = False)\n",
    "s=np.exp(s)"
   ]
  },
  {
   "cell_type": "code",
   "execution_count": 25,
   "metadata": {},
   "outputs": [],
   "source": [
    "training_data=training_data.reset_index()"
   ]
  },
  {
   "cell_type": "code",
   "execution_count": 26,
   "metadata": {},
   "outputs": [
    {
     "name": "stderr",
     "output_type": "stream",
     "text": [
      "/home/redeye/.local/lib/python3.6/site-packages/ipykernel_launcher.py:9: FutureWarning: The pandas.datetime class is deprecated and will be removed from pandas in a future version. Import from datetime instead.\n",
      "  if __name__ == '__main__':\n"
     ]
    }
   ],
   "source": [
    "for x in range(len(s)):\n",
    "    if(training_data.Month[len(training_data)-1].month < 12):\n",
    "        m = training_data.Month[len(training_data)-1].month + 1\n",
    "        y = training_data.Month[len(training_data)-1].year\n",
    "    else:\n",
    "        y = training_data.Month[len(training_data)-1].year + 1 \n",
    "        m = 1\n",
    "    d = '{}-{}'.format(y,m)\n",
    "    d = datetime.strptime(d, '%Y-%m')\n",
    "    training_data = training_data.append({'Month': d, 'Quantity': s[x]}, ignore_index=True)"
   ]
  },
  {
   "cell_type": "code",
   "execution_count": 27,
   "metadata": {},
   "outputs": [],
   "source": [
    "# training_data"
   ]
  },
  {
   "cell_type": "code",
   "execution_count": 28,
   "metadata": {},
   "outputs": [],
   "source": [
    "training_data.set_index(\"Month\", inplace = True)"
   ]
  },
  {
   "cell_type": "code",
   "execution_count": 29,
   "metadata": {},
   "outputs": [],
   "source": [
    "original_data_plot = training_data[:len_training]"
   ]
  },
  {
   "cell_type": "code",
   "execution_count": 30,
   "metadata": {},
   "outputs": [],
   "source": [
    "predicted_data = training_data[len_training:]"
   ]
  },
  {
   "cell_type": "code",
   "execution_count": 31,
   "metadata": {},
   "outputs": [
    {
     "data": {
      "text/plain": [
       "<matplotlib.legend.Legend at 0x7f34dee75d30>"
      ]
     },
     "execution_count": 31,
     "metadata": {},
     "output_type": "execute_result"
    },
    {
     "data": {
      "image/png": "[encoded data removed]",
      "text/plain": [
       "<Figure size 600x400 with 1 Axes>"
      ]
     },
     "metadata": {
      "needs_background": "light"
     },
     "output_type": "display_data"
    }
   ],
   "source": [
    "plt.figure(figsize=(6,4), dpi=100)\n",
    "plt.title(\"Prediction for Import of Rice\")\n",
    "plt.xlabel(\"Date\")\n",
    "plt.ylabel(\"Quantity in kg\")\n",
    "plt.plot(original_data_plot,color = 'black', label='training')\n",
    "plt.plot(test_data, color = 'blue', label='Actual Test Data')\n",
    "plt.plot(predicted_data, color = 'red',label='Prediction')\n",
    "plt.grid()\n",
    "plt.legend(loc='best')"
   ]
  },
  {
   "cell_type": "code",
   "execution_count": null,
   "metadata": {},
   "outputs": [],
   "source": []
  },
  {
   "cell_type": "code",
   "execution_count": null,
   "metadata": {},
   "outputs": [],
   "source": []
  }
 ],
 "metadata": {
  "kernelspec": {
   "display_name": "Python 3",
   "language": "python",
   "name": "python3"
  },
  "language_info": {
   "codemirror_mode": {
    "name": "ipython",
    "version": 3
   },
   "file_extension": ".py",
   "mimetype": "text/x-python",
   "name": "python",
   "nbconvert_exporter": "python",
   "pygments_lexer": "ipython3",
   "version": "3.6.9"
  }
 },
 "nbformat": 4,
 "nbformat_minor": 2
}
